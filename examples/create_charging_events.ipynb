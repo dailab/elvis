{
 "cells": [
  {
   "cell_type": "markdown",
   "metadata": {},
   "source": [
    "# Create charging events\n",
    "\n",
    "Charging Events in Elvis can be generated from distributions or from other charging event data."
   ]
  },
  {
   "cell_type": "markdown",
   "metadata": {},
   "source": [
    "### Import the module\n",
    "Make the modules available for the Notebook"
   ]
  },
  {
   "cell_type": "code",
   "execution_count": 1,
   "metadata": {},
   "outputs": [],
   "source": [
    "import os\n",
    "import sys\n",
    "module_path = os.path.abspath(os.path.join('..'))\n",
    "if module_path not in sys.path:\n",
    "    sys.path.append(module_path)"
   ]
  },
  {
   "cell_type": "markdown",
   "metadata": {},
   "source": [
    "### From distributions\n",
    "#### Independent distributions\n",
    "Create charging events from arrival time, parking time, SOC distributions which are independent.\n",
    "\n",
    "Note: \n",
    "* Currently only hourly data for one week is supported.\n",
    "* Parking time, arrival SOC, target SOC and vehicle type are all fixed"
   ]
  },
  {
   "cell_type": "code",
   "execution_count": 8,
   "metadata": {},
   "outputs": [],
   "source": [
    "import random\n",
    "hours_per_week = 7 * 24\n",
    "arrival_distribution =[] \n",
    "for i in range(hours_per_week):\n",
    "    arrival_distribution.append(random.random())"
   ]
  },
  {
   "cell_type": "markdown",
   "metadata": {},
   "source": [
    "In order to generate data from a weekly arrival distribution we need 3 parameters:\n",
    "* the above initialised probability distribution as a list\n",
    "* the amount of charging events per week\n",
    "* All time steps of the simulation period as a list"
   ]
  },
  {
   "cell_type": "code",
   "execution_count": 3,
   "metadata": {},
   "outputs": [],
   "source": [
    "import elvis.charging_event_generator as ceg\n",
    "import datetime\n",
    "# generate the time parameters\n",
    "start_date = datetime.datetime(year=2020, month=1, day=1)\n",
    "end_date = datetime.datetime(year=2020, month=1, day=10)\n",
    "resolution = datetime.timedelta(minutes=15) # time in between two adjacent time steps\n",
    "\n",
    "time_stamps = ceg.create_time_steps(start_date, end_date, resolution)\n",
    "\n",
    "\n",
    "\n",
    "num_weekly_charging_events = 10 # Since we simulate 10 days we assume #events = 10 days / 7 days * 10 cars per week \n",
    "charging_events = ceg.create_charging_events_from_distribution(arrival_distribution, time_stamps, num_weekly_charging_events)"
   ]
  },
  {
   "cell_type": "code",
   "execution_count": 7,
   "metadata": {},
   "outputs": [
    {
     "name": "stdout",
     "output_type": "stream",
     "text": [
      "Charging event: 1, Arrival time: 2020-01-01 02:00:00, Parking_time: 5, Leaving_time: 2020-01-01 07:00:00, SOC: 0.8, SOC target: 1.0, Connected car: Brand: Aston Martin, model: Vantage V12 Roadster \n",
      "\n",
      "Charging event: 2, Arrival time: 2020-01-01 13:15:00, Parking_time: 5, Leaving_time: 2020-01-01 18:15:00, SOC: 0.8, SOC target: 1.0, Connected car: Brand: Aston Martin, model: Vantage V12 Roadster \n",
      "\n",
      "Charging event: 3, Arrival time: 2020-01-01 19:00:00, Parking_time: 5, Leaving_time: 2020-01-02 00:00:00, SOC: 0.8, SOC target: 1.0, Connected car: Brand: Aston Martin, model: Vantage V12 Roadster \n",
      "\n",
      "Charging event: 4, Arrival time: 2020-01-02 11:15:00, Parking_time: 5, Leaving_time: 2020-01-02 16:15:00, SOC: 0.8, SOC target: 1.0, Connected car: Brand: Aston Martin, model: Vantage V12 Roadster \n",
      "\n",
      "Charging event: 5, Arrival time: 2020-01-02 15:30:00, Parking_time: 5, Leaving_time: 2020-01-02 20:30:00, SOC: 0.8, SOC target: 1.0, Connected car: Brand: Aston Martin, model: Vantage V12 Roadster \n",
      "\n",
      "Charging event: 6, Arrival time: 2020-01-03 02:00:00, Parking_time: 5, Leaving_time: 2020-01-03 07:00:00, SOC: 0.8, SOC target: 1.0, Connected car: Brand: Aston Martin, model: Vantage V12 Roadster \n",
      "\n",
      "Charging event: 7, Arrival time: 2020-01-03 04:15:00, Parking_time: 5, Leaving_time: 2020-01-03 09:15:00, SOC: 0.8, SOC target: 1.0, Connected car: Brand: Aston Martin, model: Vantage V12 Roadster \n",
      "\n",
      "Charging event: 8, Arrival time: 2020-01-03 08:30:00, Parking_time: 5, Leaving_time: 2020-01-03 13:30:00, SOC: 0.8, SOC target: 1.0, Connected car: Brand: Aston Martin, model: Vantage V12 Roadster \n",
      "\n",
      "Charging event: 9, Arrival time: 2020-01-05 13:15:00, Parking_time: 5, Leaving_time: 2020-01-05 18:15:00, SOC: 0.8, SOC target: 1.0, Connected car: Brand: Aston Martin, model: Vantage V12 Roadster \n",
      "\n",
      "Charging event: 10, Arrival time: 2020-01-05 16:15:00, Parking_time: 5, Leaving_time: 2020-01-05 21:15:00, SOC: 0.8, SOC target: 1.0, Connected car: Brand: Aston Martin, model: Vantage V12 Roadster \n",
      "\n",
      "Charging event: 11, Arrival time: 2020-01-06 11:45:00, Parking_time: 5, Leaving_time: 2020-01-06 16:45:00, SOC: 0.8, SOC target: 1.0, Connected car: Brand: Aston Martin, model: Vantage V12 Roadster \n",
      "\n",
      "Charging event: 12, Arrival time: 2020-01-07 19:00:00, Parking_time: 5, Leaving_time: 2020-01-08 00:00:00, SOC: 0.8, SOC target: 1.0, Connected car: Brand: Aston Martin, model: Vantage V12 Roadster \n",
      "\n",
      "Charging event: 13, Arrival time: 2020-01-09 18:15:00, Parking_time: 5, Leaving_time: 2020-01-09 23:15:00, SOC: 0.8, SOC target: 1.0, Connected car: Brand: Aston Martin, model: Vantage V12 Roadster \n",
      "\n"
     ]
    }
   ],
   "source": [
    "for charging_event in charging_events:\n",
    "    print(charging_event, '\\n')"
   ]
  },
  {
   "cell_type": "markdown",
   "metadata": {},
   "source": [
    "#### Dependent distributions\n",
    "\n",
    "to be implemented"
   ]
  },
  {
   "cell_type": "markdown",
   "metadata": {},
   "source": [
    "### From charging event data"
   ]
  },
  {
   "cell_type": "markdown",
   "metadata": {},
   "source": [
    "to be implemented"
   ]
  },
  {
   "cell_type": "code",
   "execution_count": null,
   "metadata": {},
   "outputs": [],
   "source": []
  }
 ],
 "metadata": {
  "kernelspec": {
   "display_name": "Python 3",
   "language": "python",
   "name": "python3"
  },
  "language_info": {
   "codemirror_mode": {
    "name": "ipython",
    "version": 3
   },
   "file_extension": ".py",
   "mimetype": "text/x-python",
   "name": "python",
   "nbconvert_exporter": "python",
   "pygments_lexer": "ipython3",
   "version": "3.7.6"
  }
 },
 "nbformat": 4,
 "nbformat_minor": 4
}
