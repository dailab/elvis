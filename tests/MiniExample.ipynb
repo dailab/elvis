{
 "cells": [
  {
   "cell_type": "markdown",
   "metadata": {},
   "source": [
    "# Mini Example for Elvis"
   ]
  },
  {
   "cell_type": "markdown",
   "metadata": {},
   "source": [
    "### Import the module"
   ]
  },
  {
   "cell_type": "markdown",
   "metadata": {},
   "source": [
    "Make the modules available for the Notebook"
   ]
  },
  {
   "cell_type": "code",
   "execution_count": 1,
   "metadata": {},
   "outputs": [],
   "source": [
    "import os\n",
    "import sys\n",
    "module_path = os.path.abspath(os.path.join('..'))\n",
    "if module_path not in sys.path:\n",
    "    sys.path.append(module_path)"
   ]
  },
  {
   "cell_type": "markdown",
   "metadata": {},
   "source": [
    "Import the ConfigBuilder and the simulate method"
   ]
  },
  {
   "cell_type": "code",
   "execution_count": 3,
   "metadata": {},
   "outputs": [],
   "source": [
    "from elvis.config import ElvisConfigBuilder\n",
    "from elvis.simulate import simulate"
   ]
  },
  {
   "cell_type": "markdown",
   "metadata": {},
   "source": [
    "### Set up parameters for the simulation"
   ]
  },
  {
   "cell_type": "markdown",
   "metadata": {},
   "source": [
    "#### Time parameters\n",
    "* The start and end date are either of type datetime.datetime or as a str in format: '%y-%m-%d %H:%M:%S'.<br/><br/>\n",
    "* The resolution (time in between two time steps) is either given as datetime.timedelta or as a str in format: '%H:%M:%S'<br/><br/>\n",
    "* The time parameters are then put into a tuple in following order:<br/>\n",
    "(start date, end date, resolution)."
   ]
  },
  {
   "cell_type": "code",
   "execution_count": 4,
   "metadata": {},
   "outputs": [],
   "source": [
    "import datetime\n",
    "\n",
    "start_date = '2020-01-01 20:00:00' # format: '%y-%m-%d %H:%M:%S'\n",
    "end_date = datetime.datetime(2020, 1, 7, 19, 0)\n",
    "resolution = '01:0:0'\n",
    "time_params = (start_date, end_date, resolution)"
   ]
  },
  {
   "cell_type": "markdown",
   "metadata": {},
   "source": [
    "#### Charging Events\n",
    "\n",
    "Charging events in the config class are class objects of the evlis class ChargingEvents. The ConfigBuilder contains a method in order to generate instances of that class with an arrival distribution and the number of charging_events per week.<br/>\n",
    "\n",
    "##### Comment:\n",
    "As of now when using an arrival distribution only an hourly format for 1 week (168 values) is accepted. The arrival distribution starts at a Monday at 0:00."
   ]
  },
  {
   "cell_type": "code",
   "execution_count": 5,
   "metadata": {},
   "outputs": [],
   "source": [
    "num_charging_events = 5\n",
    "\n",
    "arrival_distribution = [0 for x in range(168)] # create a list with 168 entries (all 0)\n",
    "arrival_distribution[8] = 1 # mondays at 8 o clock cars arrive\n",
    "arrival_distribution[10] = 1 # modays at 10 o clock cars arrive"
   ]
  },
  {
   "cell_type": "markdown",
   "metadata": {},
   "source": [
    "#### Infrastructure Design\n",
    "\n",
    "The infrastructure design is assumed to be a tree it is passed as a nested dict structure. <br/>\n",
    "Nodes in the tree structure are described as a dict with the following keys:\n",
    "* id: str (not necessary anymore)\n",
    "* max_power: float/int (maximal power that is allowed to pass that node)\n",
    "* min_power: float/int (minimal power that must go through the node if the power is not 0)\n",
    "* children*: list (containing dicts for each child of the previous node, excluded in connection point dicts)\n",
    "\n",
    "There are three types of nodes in the tree structure: transformers, charging points and connection points. Children of\n",
    "a transformer always are charging points. Children of charging points always are connection points. The infrastructure design always starts with a dict for the transformer.\n",
    "\n",
    "\n",
    "*The children key is always named after the node type of its children. For a transformer: charging_points, for a charging_point. Connection point dicts do not contain a children key."
   ]
  },
  {
   "cell_type": "code",
   "execution_count": 6,
   "metadata": {},
   "outputs": [],
   "source": [
    "infrastructure = {'transformers': [{'id': 'transformer1', 'max_power': 100, 'min_power': 10, 'charging_points': [{'id': 'charging_point1', 'max_power': 10, 'min_power': 1, 'connection_points': [{'id': 'connection_point1', 'max_power': 5, 'min_power': 0.5}, {'id': 'connection_point2', 'max_power': 5, 'min_power': 0.5}]}, {'id': 'charging_point2', 'max_power': 10, 'min_power': 1, 'connection_points': [{'id': 'connection_point3', 'max_power': 5, 'min_power': 0.5}, {'id': 'connection_point4', 'max_power': 5, 'min_power': 0.5}]}]}]}\n"
   ]
  },
  {
   "cell_type": "markdown",
   "metadata": {},
   "source": [
    "#### Other parameters\n",
    "\n",
    "* queue_length: Maximal number of cars that wait at the infrastructure if no connection point is available. The connect to a connection point if one becomes available before their leaving time is reached.\n",
    "* disconnect_by_time: Decision variable when to disconnect a car from a connection point. <br/>\n",
    "True: The cars disconnect once their leaving time is reached in total disregard of the current SOC. As a result the connection point might be blocked even though the car is fully charged.<br/>\n",
    "False: The cars disconnect when their SOC target is reached or their leaving time is reached whatever comes first.\n",
    "* scheduling_policy: The policy that assigns the power to the cars. Can be passed as a str (UC, FCFS, DF, OPT) or as an instance of the schduling policy classes (see sched/schedulers.py)."
   ]
  },
  {
   "cell_type": "code",
   "execution_count": 7,
   "metadata": {},
   "outputs": [],
   "source": [
    "queue_length = 2 # optional as per default: 0\n",
    "disconnect_by_time = True # as per default: True\n",
    "scheduling_policy = 'FCFS' # only UC and FCFS are implemented"
   ]
  },
  {
   "cell_type": "markdown",
   "metadata": {},
   "source": [
    "#### Not implemented"
   ]
  },
  {
   "cell_type": "code",
   "execution_count": 8,
   "metadata": {},
   "outputs": [],
   "source": [
    "emissions_scenario = None\n",
    "renewables_scenario = None\n",
    "vehicle_types = None\n",
    "opening_hours = None\n",
    "preload = None"
   ]
  },
  {
   "cell_type": "markdown",
   "metadata": {},
   "source": [
    "### Assign values to the ConfigBuilder\n",
    "\n",
    "The with_VARIABLE-NAME methods are used to assign either new values to a ConfigBuilder or to simulate a config with some variables changed.<br/>\n",
    "builder.build() return an instance of ElvisConfig based on the values of the Builder instance."
   ]
  },
  {
   "cell_type": "code",
   "execution_count": 26,
   "metadata": {},
   "outputs": [],
   "source": [
    "builder = ElvisConfigBuilder()\n",
    "\n",
    "# assign time_params\n",
    "builder.with_time_params(time_params)\n",
    "\n",
    "# Methods can be chained\n",
    "builder.with_queue_length(queue_length).with_scheduling_policy(scheduling_policy).with_disconnect_by_time(disconnect_by_time).with_num_charging_events(num_charging_events)\n",
    "\n",
    "# The with_charging_events method accepts a list of ChargingEvent instances or a list of floats from which it \n",
    "# creates ChargingEvent instances. In order to allow for that other parameters (num_charging_events, time_params) must\n",
    "# be set.\n",
    "builder.with_charging_events(arrival_distribution)\n",
    "\n",
    "builder.with_infrastructure(infrastructure)\n",
    "\n",
    "config = builder.build()"
   ]
  },
  {
   "cell_type": "markdown",
   "metadata": {},
   "source": [
    "### Simulate\n",
    "\n",
    "The simulate method receives a config and performs the simulation. It returns an instance of class ElvisResult containing the results of the simulation."
   ]
  },
  {
   "cell_type": "code",
   "execution_count": 27,
   "metadata": {},
   "outputs": [],
   "source": [
    "results = simulate(config)"
   ]
  },
  {
   "cell_type": "markdown",
   "metadata": {},
   "source": [
    "### Create a load profile from Result\n",
    "\n",
    "The power assigned to each conenction point is stored in the field power_connection_points. It is of type dict with the IDs of the connection points as keys and lists containing floats of the assigned powers of those connection points are implemented. This allows already though to create a load profile."
   ]
  },
  {
   "cell_type": "code",
   "execution_count": 28,
   "metadata": {},
   "outputs": [],
   "source": [
    "import pandas as pd\n",
    "\n",
    "df = pd.DataFrame.from_dict(results.power_connection_points)\n",
    "df['total_load'] = df.sum(axis=1)"
   ]
  },
  {
   "cell_type": "code",
   "execution_count": 29,
   "metadata": {},
   "outputs": [
    {
     "data": {
      "text/plain": [
       "<matplotlib.axes._subplots.AxesSubplot at 0x7f9e1cd31750>"
      ]
     },
     "execution_count": 29,
     "metadata": {},
     "output_type": "execute_result"
    },
    {
     "data": {
      "image/png": "[encoded data removed]",
      "text/plain": [
       "<Figure size 432x288 with 1 Axes>"
      ]
     },
     "metadata": {
      "needs_background": "light"
     },
     "output_type": "display_data"
    }
   ],
   "source": [
    "df.total_load.plot()"
   ]
  },
  {
   "cell_type": "code",
   "execution_count": null,
   "metadata": {},
   "outputs": [],
   "source": []
  }
 ],
 "metadata": {
  "kernelspec": {
   "display_name": "Python 3",
   "language": "python",
   "name": "python3"
  },
  "language_info": {
   "codemirror_mode": {
    "name": "ipython",
    "version": 3
   },
   "file_extension": ".py",
   "mimetype": "text/x-python",
   "name": "python",
   "nbconvert_exporter": "python",
   "pygments_lexer": "ipython3",
   "version": "3.7.6"
  }
 },
 "nbformat": 4,
 "nbformat_minor": 4
}
